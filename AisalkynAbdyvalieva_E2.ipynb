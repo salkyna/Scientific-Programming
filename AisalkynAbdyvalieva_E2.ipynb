{
 "cells": [
  {
   "cell_type": "markdown",
   "id": "d69d5865",
   "metadata": {
    "toc": true
   },
   "source": [
    "<h1>Table of Contents<span class=\"tocSkip\"></span></h1>\n",
    "<div class=\"toc\"><ul class=\"toc-item\"><li><span><a href=\"#Lists\" data-toc-modified-id=\"Lists-1\"><span class=\"toc-item-num\">1&nbsp;&nbsp;</span>Lists</a></span><ul class=\"toc-item\"><li><span><a href=\"#Exercise-4.1:-Short-questions\" data-toc-modified-id=\"Exercise-4.1:-Short-questions-1.1\"><span class=\"toc-item-num\">1.1&nbsp;&nbsp;</span>Exercise 4.1: Short questions</a></span></li><li><span><a href=\"#Exercise-4.2:-Copying-lists\" data-toc-modified-id=\"Exercise-4.2:-Copying-lists-1.2\"><span class=\"toc-item-num\">1.2&nbsp;&nbsp;</span>Exercise 4.2: Copying lists</a></span></li><li><span><a href=\"#Exercise-4.3:-Lists-of-lists\" data-toc-modified-id=\"Exercise-4.3:-Lists-of-lists-1.3\"><span class=\"toc-item-num\">1.3&nbsp;&nbsp;</span>Exercise 4.3: Lists of lists</a></span></li><li><span><a href=\"#Exercise-4.4:-Lists-and-functions\" data-toc-modified-id=\"Exercise-4.4:-Lists-and-functions-1.4\"><span class=\"toc-item-num\">1.4&nbsp;&nbsp;</span>Exercise 4.4: Lists and functions</a></span></li><li><span><a href=\"#Exercise-4.5:-Primes\" data-toc-modified-id=\"Exercise-4.5:-Primes-1.5\"><span class=\"toc-item-num\">1.5&nbsp;&nbsp;</span>Exercise 4.5: Primes</a></span></li><li><span><a href=\"#Exercise-4.6:-List-comprehensions\" data-toc-modified-id=\"Exercise-4.6:-List-comprehensions-1.6\"><span class=\"toc-item-num\">1.6&nbsp;&nbsp;</span>Exercise 4.6: List comprehensions</a></span></li><li><span><a href=\"#Exercise-4.7:-Filter\" data-toc-modified-id=\"Exercise-4.7:-Filter-1.7\"><span class=\"toc-item-num\">1.7&nbsp;&nbsp;</span>Exercise 4.7: Filter</a></span></li><li><span><a href=\"#Exercise-4.8:-Flatten-a-list-of-lists\" data-toc-modified-id=\"Exercise-4.8:-Flatten-a-list-of-lists-1.8\"><span class=\"toc-item-num\">1.8&nbsp;&nbsp;</span>Exercise 4.8: Flatten a list of lists</a></span></li><li><span><a href=\"#Exercise-4.9:-Finding-the-longest-word\" data-toc-modified-id=\"Exercise-4.9:-Finding-the-longest-word-1.9\"><span class=\"toc-item-num\">1.9&nbsp;&nbsp;</span>Exercise 4.9: Finding the longest word</a></span></li><li><span><a href=\"#Exercise-4.10:-Collatz-sequence,-part-2\" data-toc-modified-id=\"Exercise-4.10:-Collatz-sequence,-part-2-1.10\"><span class=\"toc-item-num\">1.10&nbsp;&nbsp;</span>Exercise 4.10: Collatz sequence, part 2</a></span></li><li><span><a href=\"#Exercise-4.11:-Pivots\" data-toc-modified-id=\"Exercise-4.11:-Pivots-1.11\"><span class=\"toc-item-num\">1.11&nbsp;&nbsp;</span>Exercise 4.11: Pivots</a></span></li><li><span><a href=\"#Exercise-4.12:-Prime-challenge\" data-toc-modified-id=\"Exercise-4.12:-Prime-challenge-1.12\"><span class=\"toc-item-num\">1.12&nbsp;&nbsp;</span>Exercise 4.12: Prime challenge</a></span></li></ul></li><li><span><a href=\"#Tuples\" data-toc-modified-id=\"Tuples-2\"><span class=\"toc-item-num\">2&nbsp;&nbsp;</span>Tuples</a></span><ul class=\"toc-item\"><li><span><a href=\"#Exercise-5.1:-Swapping-two-values\" data-toc-modified-id=\"Exercise-5.1:-Swapping-two-values-2.1\"><span class=\"toc-item-num\">2.1&nbsp;&nbsp;</span>Exercise 5.1: Swapping two values</a></span></li><li><span><a href=\"#Exercise-5.2:-Zip\" data-toc-modified-id=\"Exercise-5.2:-Zip-2.2\"><span class=\"toc-item-num\">2.2&nbsp;&nbsp;</span>Exercise 5.2: Zip</a></span></li><li><span><a href=\"#Exercise-5.3:-Distances\" data-toc-modified-id=\"Exercise-5.3:-Distances-2.3\"><span class=\"toc-item-num\">2.3&nbsp;&nbsp;</span>Exercise 5.3: Distances</a></span></li></ul></li><li><span><a href=\"#Dictionaries\" data-toc-modified-id=\"Dictionaries-3\"><span class=\"toc-item-num\">3&nbsp;&nbsp;</span>Dictionaries</a></span><ul class=\"toc-item\"><li><span><a href=\"#Exercise-6.1:-Printing-a-dictionary\" data-toc-modified-id=\"Exercise-6.1:-Printing-a-dictionary-3.1\"><span class=\"toc-item-num\">3.1&nbsp;&nbsp;</span>Exercise 6.1: Printing a dictionary</a></span></li><li><span><a href=\"#Exercise-6.2:-Histogram\" data-toc-modified-id=\"Exercise-6.2:-Histogram-3.2\"><span class=\"toc-item-num\">3.2&nbsp;&nbsp;</span>Exercise 6.2: Histogram</a></span></li><li><span><a href=\"#Exercise-6.3:-Get-method\" data-toc-modified-id=\"Exercise-6.3:-Get-method-3.3\"><span class=\"toc-item-num\">3.3&nbsp;&nbsp;</span>Exercise 6.3: Get method</a></span></li><li><span><a href=\"#Exercise-6.5:-Vector-functions\" data-toc-modified-id=\"Exercise-6.5:-Vector-functions-3.4\"><span class=\"toc-item-num\">3.4&nbsp;&nbsp;</span>Exercise 6.5: Vector functions</a></span></li><li><span><a href=\"#Exercise-6.6:-Reverse-look-up\" data-toc-modified-id=\"Exercise-6.6:-Reverse-look-up-3.5\"><span class=\"toc-item-num\">3.5&nbsp;&nbsp;</span>Exercise 6.6: Reverse look-up</a></span></li></ul></li></ul></div>"
   ]
  },
  {
   "cell_type": "markdown",
   "id": "79e07f06",
   "metadata": {},
   "source": [
    "# Lists"
   ]
  },
  {
   "cell_type": "markdown",
   "id": "85cb45ba",
   "metadata": {},
   "source": [
    "## Exercise 4.1: Short questions"
   ]
  },
  {
   "cell_type": "markdown",
   "id": "21022aec",
   "metadata": {},
   "source": [
    "(a) Write a function that prints the elements of a list\n",
    "\n",
    "(b) Write a function that prints the elements of a list in reverse\n",
    "\n",
    "(c) Write your own implementation of the len function that returns the number of elements in a list."
   ]
  },
  {
   "cell_type": "code",
   "execution_count": 3,
   "id": "7a34370d",
   "metadata": {},
   "outputs": [],
   "source": [
    "def printList(lst):\n",
    "    for el in lst:\n",
    "        print(el)"
   ]
  },
  {
   "cell_type": "code",
   "execution_count": 4,
   "id": "63c20b2e",
   "metadata": {},
   "outputs": [
    {
     "name": "stdout",
     "output_type": "stream",
     "text": [
      "1\n",
      "2\n",
      "e\n",
      "-43\n"
     ]
    }
   ],
   "source": [
    "printList([1,2,'e', -43])"
   ]
  },
  {
   "cell_type": "code",
   "execution_count": 12,
   "id": "b72ecc3d",
   "metadata": {},
   "outputs": [],
   "source": [
    "def printListReverse(lst):\n",
    "    for el in reversed(lst):\n",
    "        print(el)"
   ]
  },
  {
   "cell_type": "code",
   "execution_count": 13,
   "id": "47adda68",
   "metadata": {
    "scrolled": true
   },
   "outputs": [
    {
     "name": "stdout",
     "output_type": "stream",
     "text": [
      "-43\n",
      "e\n",
      "2\n",
      "1\n"
     ]
    }
   ],
   "source": [
    "printListReverse([1,2,'e', -43])"
   ]
  },
  {
   "cell_type": "code",
   "execution_count": 14,
   "id": "c7a05885",
   "metadata": {},
   "outputs": [],
   "source": [
    "def printListReverse2(lst):\n",
    "    lst.reverse()\n",
    "    return lst"
   ]
  },
  {
   "cell_type": "code",
   "execution_count": 15,
   "id": "e1e73dd8",
   "metadata": {},
   "outputs": [
    {
     "data": {
      "text/plain": [
       "[-43, 'e', 2, 1]"
      ]
     },
     "execution_count": 15,
     "metadata": {},
     "output_type": "execute_result"
    }
   ],
   "source": [
    "printListReverse2([1,2,'e', -43])"
   ]
  },
  {
   "cell_type": "code",
   "execution_count": 16,
   "id": "92667db1",
   "metadata": {},
   "outputs": [],
   "source": [
    "def lenList(lst):\n",
    "    len = 0\n",
    "    for el in lst:\n",
    "        len += 1\n",
    "    return len"
   ]
  },
  {
   "cell_type": "code",
   "execution_count": 17,
   "id": "d5cde8ff",
   "metadata": {},
   "outputs": [
    {
     "data": {
      "text/plain": [
       "4"
      ]
     },
     "execution_count": 17,
     "metadata": {},
     "output_type": "execute_result"
    }
   ],
   "source": [
    "lenList([1,2,'e', -43])"
   ]
  },
  {
   "cell_type": "markdown",
   "id": "2889e514",
   "metadata": {},
   "source": [
    "## Exercise 4.2: Copying lists"
   ]
  },
  {
   "cell_type": "markdown",
   "id": "5da496b9",
   "metadata": {},
   "source": [
    "(a) Create a list a with some entries.\n",
    "\n",
    "(b) Nowsetb = a (c) Change b[1]\n",
    "\n",
    "(d) What happened to a? (e) Now set c = a[:]\n",
    "\n",
    "(f) Change c[2]\n",
    "\n",
    "(g) What happened to a?\n",
    "\n",
    "Now create a function set_first_elem_to_zero(l) that takes a list, sets its first entry to zero, and returns the list.\n",
    "\n",
    "What happens to the original list?"
   ]
  },
  {
   "cell_type": "code",
   "execution_count": 19,
   "id": "79a08ee0",
   "metadata": {},
   "outputs": [],
   "source": [
    "a = [1,2,'e', -43]"
   ]
  },
  {
   "cell_type": "code",
   "execution_count": 20,
   "id": "0f2f3ae9",
   "metadata": {},
   "outputs": [],
   "source": [
    "b = a"
   ]
  },
  {
   "cell_type": "code",
   "execution_count": 21,
   "id": "c8186616",
   "metadata": {},
   "outputs": [],
   "source": [
    "b[1] = 100"
   ]
  },
  {
   "cell_type": "code",
   "execution_count": 22,
   "id": "301bf4ea",
   "metadata": {},
   "outputs": [
    {
     "data": {
      "text/plain": [
       "[1, 100, 'e', -43]"
      ]
     },
     "execution_count": 22,
     "metadata": {},
     "output_type": "execute_result"
    }
   ],
   "source": [
    "a"
   ]
  },
  {
   "cell_type": "code",
   "execution_count": 24,
   "id": "a28393c1",
   "metadata": {},
   "outputs": [
    {
     "data": {
      "text/plain": [
       "[1, 100, 'e', -43]"
      ]
     },
     "execution_count": 24,
     "metadata": {},
     "output_type": "execute_result"
    }
   ],
   "source": [
    "c = a[:]\n",
    "c"
   ]
  },
  {
   "cell_type": "code",
   "execution_count": 25,
   "id": "e9f2d72c",
   "metadata": {},
   "outputs": [
    {
     "data": {
      "text/plain": [
       "[1, 100, 'rrr', -43]"
      ]
     },
     "execution_count": 25,
     "metadata": {},
     "output_type": "execute_result"
    }
   ],
   "source": [
    "c[2] = 'rrr'\n",
    "c"
   ]
  },
  {
   "cell_type": "code",
   "execution_count": 26,
   "id": "aa468b22",
   "metadata": {},
   "outputs": [
    {
     "data": {
      "text/plain": [
       "[1, 100, 'e', -43]"
      ]
     },
     "execution_count": 26,
     "metadata": {},
     "output_type": "execute_result"
    }
   ],
   "source": [
    "a"
   ]
  },
  {
   "cell_type": "markdown",
   "id": "7c0afa11",
   "metadata": {},
   "source": [
    "The list a has changed only when the list b has changed, because b is just the name that refers to the same object as a does. \n",
    "\n",
    "The list c is a slice of the list a, so it has no effect on the list a."
   ]
  },
  {
   "cell_type": "code",
   "execution_count": 28,
   "id": "4685f834",
   "metadata": {},
   "outputs": [],
   "source": [
    "def set_first_elem_to_zero(l):\n",
    "    l[0] = 0\n",
    "    return l"
   ]
  },
  {
   "cell_type": "code",
   "execution_count": 30,
   "id": "6f520bf1",
   "metadata": {},
   "outputs": [
    {
     "data": {
      "text/plain": [
       "[0, 100, 'e', -43]"
      ]
     },
     "execution_count": 30,
     "metadata": {},
     "output_type": "execute_result"
    }
   ],
   "source": [
    "set_first_elem_to_zero([1, 100, 'e', -43])"
   ]
  },
  {
   "cell_type": "markdown",
   "id": "dfaa135f",
   "metadata": {},
   "source": [
    "## Exercise 4.3: Lists of lists"
   ]
  },
  {
   "cell_type": "markdown",
   "id": "aac25566",
   "metadata": {},
   "source": [
    "What is the difference between a and b:\n",
    "\n",
    "a = [[]] * 3\n",
    "\n",
    "b = [[] for _ in xrange(3)]"
   ]
  },
  {
   "cell_type": "code",
   "execution_count": 32,
   "id": "78397706",
   "metadata": {},
   "outputs": [
    {
     "data": {
      "text/plain": [
       "[[1, 2, 3, 4], [1, 2, 3, 4], [1, 2, 3, 4]]"
      ]
     },
     "execution_count": 32,
     "metadata": {},
     "output_type": "execute_result"
    }
   ],
   "source": [
    "a = [[1,2,3,4]]*3\n",
    "a"
   ]
  },
  {
   "cell_type": "code",
   "execution_count": 34,
   "id": "a238d76e",
   "metadata": {},
   "outputs": [
    {
     "data": {
      "text/plain": [
       "[[1, 2, 3, 4], [1, 2, 3, 4], [1, 2, 3, 4]]"
      ]
     },
     "execution_count": 34,
     "metadata": {},
     "output_type": "execute_result"
    }
   ],
   "source": [
    "b = [[1,2,3,4] for _ in range(3)]\n",
    "b"
   ]
  },
  {
   "cell_type": "markdown",
   "id": "4d0d05c3",
   "metadata": {},
   "source": [
    "The arrays a and b are identical."
   ]
  },
  {
   "cell_type": "markdown",
   "id": "b4c2f88c",
   "metadata": {},
   "source": [
    "## Exercise 4.4: Lists and functions"
   ]
  },
  {
   "cell_type": "markdown",
   "id": "20f7a770",
   "metadata": {},
   "source": [
    "Write a function that takes a list and an index, and sets the value of the list at the given index to 0."
   ]
  },
  {
   "cell_type": "code",
   "execution_count": 36,
   "id": "0051ec2c",
   "metadata": {},
   "outputs": [],
   "source": [
    "def setValueAtTheIndexToZero(lst, i):\n",
    "    lst[i] = 0\n",
    "    return lst"
   ]
  },
  {
   "cell_type": "code",
   "execution_count": 37,
   "id": "b6fdbda2",
   "metadata": {},
   "outputs": [
    {
     "data": {
      "text/plain": [
       "[1, 2, 3, 0]"
      ]
     },
     "execution_count": 37,
     "metadata": {},
     "output_type": "execute_result"
    }
   ],
   "source": [
    "setValueAtTheIndexToZero([1,2,3,4], 3)"
   ]
  },
  {
   "cell_type": "markdown",
   "id": "8d561655",
   "metadata": {},
   "source": [
    "## Exercise 4.5: Primes"
   ]
  },
  {
   "cell_type": "markdown",
   "id": "8feab83a",
   "metadata": {},
   "source": [
    "In Section 3 you wrote a function that prints all primes up to n, and a function that prints the first n primes. Update these functions such that they return lists instead.\n"
   ]
  },
  {
   "cell_type": "markdown",
   "id": "00a50867",
   "metadata": {},
   "source": [
    "## Exercise 4.6: List comprehensions"
   ]
  },
  {
   "cell_type": "markdown",
   "id": "a53000a0",
   "metadata": {},
   "source": [
    "Let i,j = 1,...,n\n",
    "\n",
    "(a) Generate a list with elements [i,j].\n",
    "\n",
    "(b) Generate a list with elements [i,j] with i < j\n",
    "\n",
    "(c) Generate a list with elements i + j with both i and j prime and i > j.\n",
    "\n",
    "(d) Write a function that evaluates an arbitrary polynomial a0 + a1x + a2x2 + . . . + anxn using a list comprehension, where you are given x and a list with coefficients coefs (hint: use enumerate)"
   ]
  },
  {
   "cell_type": "markdown",
   "id": "64f466c7",
   "metadata": {},
   "source": [
    "## Exercise 4.7: Filter"
   ]
  },
  {
   "cell_type": "code",
   "execution_count": 43,
   "id": "9bb36461",
   "metadata": {},
   "outputs": [],
   "source": [
    "def myfilter(l):\n",
    "    return [x for x in l if x % 2 == 0]  "
   ]
  },
  {
   "cell_type": "code",
   "execution_count": 44,
   "id": "9f8e384f",
   "metadata": {},
   "outputs": [
    {
     "data": {
      "text/plain": [
       "[0, 2, 4, 6]"
      ]
     },
     "execution_count": 44,
     "metadata": {},
     "output_type": "execute_result"
    }
   ],
   "source": [
    "myfilter(range(8))"
   ]
  },
  {
   "cell_type": "code",
   "execution_count": null,
   "id": "54cf1177",
   "metadata": {},
   "outputs": [],
   "source": [
    "l = range(8)\n",
    "print filter(lambda x: x % 2 == 0, l) # [0, 2, 4, 6]"
   ]
  },
  {
   "cell_type": "markdown",
   "id": "0aa02371",
   "metadata": {},
   "source": [
    "## Exercise 4.8: Flatten a list of lists\n",
    "\n",
    "Consider having a list with lists as elements, e.g. [[1,3], [3,6]].\n",
    "\n",
    "Write a function that takes such a list, and returns a list with as elements the elements of the sublists,\n",
    "e.g. [1, 3, 3, 6]."
   ]
  },
  {
   "cell_type": "code",
   "execution_count": 47,
   "id": "e5550c1d",
   "metadata": {},
   "outputs": [],
   "source": [
    "def newList(l):\n",
    "    newL = []\n",
    "    for sublist in l:\n",
    "        for elt in sublist:\n",
    "            newL.append(elt)\n",
    "    return newL"
   ]
  },
  {
   "cell_type": "code",
   "execution_count": 48,
   "id": "e8b70186",
   "metadata": {},
   "outputs": [
    {
     "data": {
      "text/plain": [
       "[1, 3, 3, 6]"
      ]
     },
     "execution_count": 48,
     "metadata": {},
     "output_type": "execute_result"
    }
   ],
   "source": [
    "newList([[1,3], [3,6]])"
   ]
  },
  {
   "cell_type": "code",
   "execution_count": 49,
   "id": "6c349215",
   "metadata": {},
   "outputs": [],
   "source": [
    "def newList2(l):\n",
    "    return [elt for sublist in l for elt in sublist]"
   ]
  },
  {
   "cell_type": "code",
   "execution_count": 50,
   "id": "87d8bc94",
   "metadata": {},
   "outputs": [
    {
     "data": {
      "text/plain": [
       "[1, 3, 3, 6]"
      ]
     },
     "execution_count": 50,
     "metadata": {},
     "output_type": "execute_result"
    }
   ],
   "source": [
    "newList2([[1,3], [3,6]])"
   ]
  },
  {
   "cell_type": "markdown",
   "id": "d66950f2",
   "metadata": {},
   "source": [
    "## Exercise 4.9: Finding the longest word\n",
    "Write a function that returns the longest word in a variable text that contains a sentence. While text may contain punctuation, these should not be taken into account. What happens with ties?\n",
    "\n",
    "As an example, consider: “Hello, how was the football match earlier today???”\n"
   ]
  },
  {
   "cell_type": "code",
   "execution_count": 51,
   "id": "d7ed6d7d",
   "metadata": {},
   "outputs": [
    {
     "ename": "SyntaxError",
     "evalue": "unexpected EOF while parsing (<ipython-input-51-7566cf3a1c62>, line 2)",
     "output_type": "error",
     "traceback": [
      "\u001b[0;36m  File \u001b[0;32m\"<ipython-input-51-7566cf3a1c62>\"\u001b[0;36m, line \u001b[0;32m2\u001b[0m\n\u001b[0;31m    \u001b[0m\n\u001b[0m    ^\u001b[0m\n\u001b[0;31mSyntaxError\u001b[0m\u001b[0;31m:\u001b[0m unexpected EOF while parsing\n"
     ]
    }
   ],
   "source": [
    "def longestWord(string):\n",
    "    "
   ]
  },
  {
   "cell_type": "markdown",
   "id": "bd88bcac",
   "metadata": {},
   "source": [
    "## Exercise 4.10: Collatz sequence, part 2\n",
    "Recall the Collatz sequence problem from Section 1. Our goal is to find the number n < 1, 000, 000 that leads to the longest Collatz sequence.\n",
    "\n",
    "(a) Write a function that for any n, returns its Collatz sequence as a list\n",
    "\n",
    "(b) Write a function that finds the integer x that leads to the longest Collatz sequence with x < n."
   ]
  },
  {
   "cell_type": "markdown",
   "id": "f9c7f09c",
   "metadata": {},
   "source": [
    "## Exercise 4.11: Pivots\n",
    "    \n",
    "Write a function that takes a value x and a list ys, and returns a list that contains the value x and all elements of ys such that all values y in ys that are smaller than x come first, then we element x and then the rest of the values in ys.\n",
    "\n",
    "For example, the output of f(3, [6, 4, 1, 7]) should be [1, 3, 6, 4, 7]"
   ]
  },
  {
   "cell_type": "code",
   "execution_count": 53,
   "id": "f64dd46b",
   "metadata": {},
   "outputs": [],
   "source": [
    "def pivotList(l, x):\n",
    "    newList = []\n",
    "    for elt in l:\n",
    "        if elt < x:\n",
    "            newList.append(elt)\n",
    "    newList.append(x)\n",
    "    for elt in l:\n",
    "        if elt > x:\n",
    "            newList.append(elt)\n",
    "    return newList"
   ]
  },
  {
   "cell_type": "code",
   "execution_count": 54,
   "id": "35c2b61a",
   "metadata": {},
   "outputs": [
    {
     "data": {
      "text/plain": [
       "[1, 3, 6, 4, 7]"
      ]
     },
     "execution_count": 54,
     "metadata": {},
     "output_type": "execute_result"
    }
   ],
   "source": [
    "pivotList([6, 4, 1, 7], 3)"
   ]
  },
  {
   "cell_type": "code",
   "execution_count": 55,
   "id": "7c47be06",
   "metadata": {},
   "outputs": [],
   "source": [
    "def pivotList2(l, x):\n",
    "    a = [elt for elt in l if elt <=x]\n",
    "    b = [elt for elt in l if elt > x]\n",
    "    return a + x + b"
   ]
  },
  {
   "cell_type": "code",
   "execution_count": 56,
   "id": "2cbf0912",
   "metadata": {},
   "outputs": [
    {
     "data": {
      "text/plain": [
       "[1, 3, 6, 4, 7]"
      ]
     },
     "execution_count": 56,
     "metadata": {},
     "output_type": "execute_result"
    }
   ],
   "source": [
    "pivotList([6, 4, 1, 7], 3)"
   ]
  },
  {
   "cell_type": "markdown",
   "id": "74853f28",
   "metadata": {},
   "source": [
    "## Exercise 4.12: Prime challenge\n",
    "\n",
    "Write the function primes(n) that return a list with all prime numbers up to n using three (or less) lines of code.\n",
    "\n",
    "Hint 1: Use lambda functions and list comprehensions.\n",
    "\n",
    "Hint 2: Use the first two lines to define two helper (lambda) functions."
   ]
  },
  {
   "cell_type": "markdown",
   "id": "f7342b13",
   "metadata": {},
   "source": [
    "#  Tuples"
   ]
  },
  {
   "cell_type": "markdown",
   "id": "d6dd0208",
   "metadata": {},
   "source": [
    "## Exercise 5.1: Swapping two values\n",
    "\n",
    "Suppose you have two variables: a and b. Now you want to set a equal to the value of b and at the same time set b equal to the value of a.\n",
    "The following obviously does not work\n",
    "\n",
    "a=b\n",
    "\n",
    "b=a\n",
    "\n",
    "so in some languages, you need to define a third variable like this\n",
    "\n",
    "t=a\n",
    "\n",
    "a=b\n",
    "\n",
    "b=t\n",
    "\n",
    "However, in Python you don’t need to do this. How can you swap a and b in one line?"
   ]
  },
  {
   "cell_type": "markdown",
   "id": "d90dc56c",
   "metadata": {},
   "source": [
    "## Exercise 5.2: Zip\n",
    "\n",
    "Suppose we have two lists, x and y that give the x and y coordinates of a set of points. Create a list with the coordinates (x,y) as a tuple. Hint: Find out about the zip function.\n",
    "\n",
    "You have decided that actually, you need the two seperate lists, but unfortunately, you have thrown them away. How can we use zip to unzip the list of tuples to get two lists again?"
   ]
  },
  {
   "cell_type": "code",
   "execution_count": 61,
   "id": "23f1fbf9",
   "metadata": {},
   "outputs": [
    {
     "data": {
      "text/plain": [
       "[(1, 6), (2, 7), (3, 8), (4, 9)]"
      ]
     },
     "execution_count": 61,
     "metadata": {},
     "output_type": "execute_result"
    }
   ],
   "source": [
    "x = [1,2,3,4]\n",
    "y = [6,7,8,9]\n",
    "\n",
    "a = zip(x,y)\n",
    "b = list(a)\n",
    "b"
   ]
  },
  {
   "cell_type": "code",
   "execution_count": 62,
   "id": "1e6e990b",
   "metadata": {},
   "outputs": [
    {
     "data": {
      "text/plain": [
       "[(1, 2, 3, 4), (6, 7, 8, 9)]"
      ]
     },
     "execution_count": 62,
     "metadata": {},
     "output_type": "execute_result"
    }
   ],
   "source": [
    "unzippedLists = list(zip(*b))\n",
    "unzippedLists"
   ]
  },
  {
   "cell_type": "code",
   "execution_count": 63,
   "id": "91e4e9e6",
   "metadata": {},
   "outputs": [
    {
     "data": {
      "text/plain": [
       "[[1, 2, 3, 4], [6, 7, 8, 9]]"
      ]
     },
     "execution_count": 63,
     "metadata": {},
     "output_type": "execute_result"
    }
   ],
   "source": [
    "unzippedLists2 = [[ i for i, j in b],\n",
    "       [j for i, j in b]]\n",
    "unzippedLists2"
   ]
  },
  {
   "cell_type": "markdown",
   "id": "d87265af",
   "metadata": {},
   "source": [
    "## Exercise 5.3: Distances\n",
    "\n",
    "Suppose we have two vectors, x and y, stored as tuples with n elements. Implement functions that compute the l1 and l2 distances between x and y. Note that n is not explicitly given.\n"
   ]
  },
  {
   "cell_type": "code",
   "execution_count": 71,
   "id": "96e4e66c",
   "metadata": {},
   "outputs": [],
   "source": [
    "import math\n",
    "def lTwo(x,y):\n",
    "    sumOfSquares = 0\n",
    "    for i in range(len(x)):\n",
    "        difference = x[i] - y[i]\n",
    "        sumOfSquares += difference**2\n",
    "    return math.sqrt(sumOfSquares)"
   ]
  },
  {
   "cell_type": "code",
   "execution_count": 72,
   "id": "d9e02f39",
   "metadata": {},
   "outputs": [
    {
     "data": {
      "text/plain": [
       "8.0"
      ]
     },
     "execution_count": 72,
     "metadata": {},
     "output_type": "execute_result"
    }
   ],
   "source": [
    "x = (1,2,3,4)\n",
    "y = (5,6,7,8)\n",
    "lTwo(x,y)"
   ]
  },
  {
   "cell_type": "code",
   "execution_count": 75,
   "id": "9fcb9515",
   "metadata": {},
   "outputs": [],
   "source": [
    "def lOne(x,y):\n",
    "    sumOfAbs = 0\n",
    "    for i in range(len(x)):\n",
    "        sumOfAbs += abs(x[i] - y[i])\n",
    "    return sumOfAbs"
   ]
  },
  {
   "cell_type": "code",
   "execution_count": 76,
   "id": "16624012",
   "metadata": {},
   "outputs": [
    {
     "data": {
      "text/plain": [
       "16"
      ]
     },
     "execution_count": 76,
     "metadata": {},
     "output_type": "execute_result"
    }
   ],
   "source": [
    "x = (1,2,3,4)\n",
    "y = (5,6,7,8)\n",
    "lOne(x,y)"
   ]
  },
  {
   "cell_type": "markdown",
   "id": "5ca9fa6c",
   "metadata": {},
   "source": [
    "# Dictionaries"
   ]
  },
  {
   "cell_type": "markdown",
   "id": "dadaa2e9",
   "metadata": {},
   "source": [
    "## Exercise 6.1: Printing a dictionary\n",
    "\n",
    "Write a function that prints key-value pairs of a dictionary."
   ]
  },
  {
   "cell_type": "code",
   "execution_count": 84,
   "id": "7218f580",
   "metadata": {},
   "outputs": [],
   "source": [
    "def keyValuePair(d):\n",
    "    return d.items()"
   ]
  },
  {
   "cell_type": "code",
   "execution_count": 85,
   "id": "37db402d",
   "metadata": {},
   "outputs": [
    {
     "data": {
      "text/plain": [
       "dict_items([(<zip object at 0x7fb3cb58ea80>, 2), (4, '5'), ((2, 3, 4), ['r', 45])])"
      ]
     },
     "execution_count": 85,
     "metadata": {},
     "output_type": "execute_result"
    }
   ],
   "source": [
    "keyValuePair({a:2, 4:'5', (2,3,4):['r', 45]})"
   ]
  },
  {
   "cell_type": "markdown",
   "id": "961a04d7",
   "metadata": {},
   "source": [
    "## Exercise 6.2: Histogram\n",
    "    \n",
    "Write a function that takes a list, and returns a dictionary with keys the elements of the list and as value the number of occurances of that element in the list.\n",
    "\n",
    "After you are done, look up ‘python collections counter’ in Google. Could you use a counter instead?"
   ]
  },
  {
   "cell_type": "code",
   "execution_count": 89,
   "id": "eeb51a60",
   "metadata": {},
   "outputs": [],
   "source": [
    "def histogram(lst):\n",
    "    dct = {}\n",
    "    for elt in lst:\n",
    "        if elt not in dct:\n",
    "            dct[elt] = 0\n",
    "        dct[elt] += 1\n",
    "    return dct"
   ]
  },
  {
   "cell_type": "code",
   "execution_count": 90,
   "id": "4b85380d",
   "metadata": {},
   "outputs": [
    {
     "data": {
      "text/plain": [
       "{1: 1, 2: 2, 4: 1, 6: 2, 5: 1, 7: 3}"
      ]
     },
     "execution_count": 90,
     "metadata": {},
     "output_type": "execute_result"
    }
   ],
   "source": [
    "histogram([1,2,4,6,2,5,6,7,7,7])"
   ]
  },
  {
   "cell_type": "code",
   "execution_count": 92,
   "id": "96962453",
   "metadata": {},
   "outputs": [
    {
     "name": "stdout",
     "output_type": "stream",
     "text": [
      "Counter({2: 4, 3: 4, 1: 3, 4: 2, 5: 1})\n"
     ]
    }
   ],
   "source": [
    "from collections import Counter\n",
    "myList = [1,1,2,3,4,5,3,2,3,4,2,1,2,3]\n",
    "print(Counter(myList))"
   ]
  },
  {
   "cell_type": "markdown",
   "id": "d7e0271b",
   "metadata": {},
   "source": [
    "## Exercise 6.3: Get method\n",
    "\n",
    "Dictionaries have a get method, which takes a key and a default value. If the key is in the dictionary, it returns the value, otherwise, it returns the default value.\n",
    "\n",
    "Rewrite your code from the previous problem to make use of this get method."
   ]
  },
  {
   "cell_type": "code",
   "execution_count": 93,
   "id": "a644b75e",
   "metadata": {},
   "outputs": [
    {
     "data": {
      "text/plain": [
       "Counter({1: 3, 2: 4, 3: 4, 4: 2, 5: 1})"
      ]
     },
     "execution_count": 93,
     "metadata": {},
     "output_type": "execute_result"
    }
   ],
   "source": [
    "c = Counter(myList)\n",
    "c"
   ]
  },
  {
   "cell_type": "code",
   "execution_count": 94,
   "id": "51f990ec",
   "metadata": {},
   "outputs": [
    {
     "data": {
      "text/plain": [
       "3"
      ]
     },
     "execution_count": 94,
     "metadata": {},
     "output_type": "execute_result"
    }
   ],
   "source": [
    "c.get(1)"
   ]
  },
  {
   "cell_type": "code",
   "execution_count": 97,
   "id": "a5403134",
   "metadata": {},
   "outputs": [],
   "source": [
    "c.get(10)"
   ]
  },
  {
   "cell_type": "code",
   "execution_count": 98,
   "id": "14da0bd1",
   "metadata": {},
   "outputs": [
    {
     "data": {
      "text/plain": [
       "1"
      ]
     },
     "execution_count": 98,
     "metadata": {},
     "output_type": "execute_result"
    }
   ],
   "source": [
    "c.get(5)"
   ]
  },
  {
   "cell_type": "markdown",
   "id": "75d7a8d7",
   "metadata": {},
   "source": [
    "## Exercise 6.5: Vector functions\n",
    "\n",
    "Let’s implement some vector functions. There are two types of vectors, normal or dense vectors, which we can represent using lists. For sparse vectors, where many of the elements are zero, this is inefficient. Instead, we use a dictionary with keys the indices of non-zero values, and then the value corresponding to the key is the value of the vector at that index. Hence, the vector [1, 2, 4] can be stored as a list: [1, 2, 4] or as a dictionary {0:1, 1: 2, 2: 4}.\n",
    "\n",
    "(a) Write a function that adds two (dense) vectors\n",
    "\n",
    "(b) Write a function that multiplies (i.e. inner product) two (dense) vectors\n",
    "\n",
    "(c) Write a function that adds two sparse vectors\n",
    "\n",
    "(d) Write a function that multiplies two sparse vectors\n",
    "\n",
    "(e) Write a function that adds a sparse vector and a dense vector\n",
    "\n",
    "(f) Write a function that multiplies a sparse vector and a dense vector"
   ]
  },
  {
   "cell_type": "code",
   "execution_count": 118,
   "id": "81f08d76",
   "metadata": {},
   "outputs": [],
   "source": [
    "def addTwoDenseVectors(x,y):\n",
    "    return [x[i] + y[i] for i in range(len(x))]                                            "
   ]
  },
  {
   "cell_type": "code",
   "execution_count": 119,
   "id": "af82f161",
   "metadata": {},
   "outputs": [
    {
     "data": {
      "text/plain": [
       "[5, 7, 9]"
      ]
     },
     "execution_count": 119,
     "metadata": {},
     "output_type": "execute_result"
    }
   ],
   "source": [
    "addTwoDenseVectors([1,2,3], [4,5,6])"
   ]
  },
  {
   "cell_type": "code",
   "execution_count": 121,
   "id": "6eb740bc",
   "metadata": {},
   "outputs": [],
   "source": [
    "def multiplyTwoDenseVectors(x,y):\n",
    "    return [x[i] * y[i] for i in range(len(x))]   "
   ]
  },
  {
   "cell_type": "code",
   "execution_count": 122,
   "id": "42e050c0",
   "metadata": {},
   "outputs": [
    {
     "data": {
      "text/plain": [
       "[4, 10, 18]"
      ]
     },
     "execution_count": 122,
     "metadata": {},
     "output_type": "execute_result"
    }
   ],
   "source": [
    "multiplyTwoDenseVectors([1,2,3], [4,5,6])"
   ]
  },
  {
   "cell_type": "code",
   "execution_count": 125,
   "id": "f4dcf59a",
   "metadata": {},
   "outputs": [],
   "source": [
    "def addTwoSparseVectors(x,y):\n",
    "    dictX = {}\n",
    "    for count, value in enumerate(x):\n",
    "        if value != 0:\n",
    "            dictX[count] = value\n",
    "    print(dictX)\n",
    "    dictY = {}\n",
    "    for count, value in enumerate(y):\n",
    "        if value != 0:\n",
    "            dictY[count] = value\n",
    "    print(dictY)\n",
    "    for key in dictX:\n",
    "        if key not in dictY:\n",
    "            dictY[key] = dictX[key]\n",
    "        else:\n",
    "            dictY[key] += dictX[key]\n",
    "    return dictY"
   ]
  },
  {
   "cell_type": "code",
   "execution_count": 126,
   "id": "965b6a8a",
   "metadata": {
    "scrolled": false
   },
   "outputs": [
    {
     "name": "stdout",
     "output_type": "stream",
     "text": [
      "{0: 1, 3: 2, 6: 4}\n",
      "{2: 3, 3: 5, 5: 7, 6: 8}\n"
     ]
    },
    {
     "data": {
      "text/plain": [
       "{2: 3, 3: 7, 5: 7, 6: 12, 0: 1}"
      ]
     },
     "execution_count": 126,
     "metadata": {},
     "output_type": "execute_result"
    }
   ],
   "source": [
    "addTwoSparseVectors([1,0,0,2,0,0,4], [0,0,3,5,0,7,8])"
   ]
  },
  {
   "cell_type": "code",
   "execution_count": 131,
   "id": "c9792f8c",
   "metadata": {},
   "outputs": [],
   "source": [
    "def multiplyTwoSparseVectors(x,y):\n",
    "    dictX = {}\n",
    "    for count, value in enumerate(x):\n",
    "        if value != 0:\n",
    "            dictX[count] = value\n",
    "    print(dictX)\n",
    "    dictY = {}\n",
    "    for count, value in enumerate(y):\n",
    "        if value != 0:\n",
    "            dictY[count] = value\n",
    "    print(dictY)\n",
    "    for key in dictX:\n",
    "        if key in dictY:\n",
    "            dictY[key] *= dictX[key]\n",
    "        else:\n",
    "            dictY.pop(key)\n",
    "    return dictY"
   ]
  },
  {
   "cell_type": "code",
   "execution_count": 132,
   "id": "03132984",
   "metadata": {},
   "outputs": [
    {
     "name": "stdout",
     "output_type": "stream",
     "text": [
      "{0: 1, 3: 2, 6: 4}\n",
      "{2: 3, 3: 5, 5: 7, 6: 8}\n"
     ]
    },
    {
     "ename": "KeyError",
     "evalue": "0",
     "output_type": "error",
     "traceback": [
      "\u001b[0;31m---------------------------------------------------------------------------\u001b[0m",
      "\u001b[0;31mKeyError\u001b[0m                                  Traceback (most recent call last)",
      "\u001b[0;32m<ipython-input-132-e93c7cf7497f>\u001b[0m in \u001b[0;36m<module>\u001b[0;34m\u001b[0m\n\u001b[0;32m----> 1\u001b[0;31m \u001b[0mmultiplyTwoSparseVectors\u001b[0m\u001b[0;34m(\u001b[0m\u001b[0;34m[\u001b[0m\u001b[0;36m1\u001b[0m\u001b[0;34m,\u001b[0m\u001b[0;36m0\u001b[0m\u001b[0;34m,\u001b[0m\u001b[0;36m0\u001b[0m\u001b[0;34m,\u001b[0m\u001b[0;36m2\u001b[0m\u001b[0;34m,\u001b[0m\u001b[0;36m0\u001b[0m\u001b[0;34m,\u001b[0m\u001b[0;36m0\u001b[0m\u001b[0;34m,\u001b[0m\u001b[0;36m4\u001b[0m\u001b[0;34m]\u001b[0m\u001b[0;34m,\u001b[0m \u001b[0;34m[\u001b[0m\u001b[0;36m0\u001b[0m\u001b[0;34m,\u001b[0m\u001b[0;36m0\u001b[0m\u001b[0;34m,\u001b[0m\u001b[0;36m3\u001b[0m\u001b[0;34m,\u001b[0m\u001b[0;36m5\u001b[0m\u001b[0;34m,\u001b[0m\u001b[0;36m0\u001b[0m\u001b[0;34m,\u001b[0m\u001b[0;36m7\u001b[0m\u001b[0;34m,\u001b[0m\u001b[0;36m8\u001b[0m\u001b[0;34m]\u001b[0m\u001b[0;34m)\u001b[0m\u001b[0;34m\u001b[0m\u001b[0;34m\u001b[0m\u001b[0m\n\u001b[0m",
      "\u001b[0;32m<ipython-input-131-27c1f8974803>\u001b[0m in \u001b[0;36mmultiplyTwoSparseVectors\u001b[0;34m(x, y)\u001b[0m\n\u001b[1;32m     14\u001b[0m             \u001b[0mdictY\u001b[0m\u001b[0;34m[\u001b[0m\u001b[0mkey\u001b[0m\u001b[0;34m]\u001b[0m \u001b[0;34m*=\u001b[0m \u001b[0mdictX\u001b[0m\u001b[0;34m[\u001b[0m\u001b[0mkey\u001b[0m\u001b[0;34m]\u001b[0m\u001b[0;34m\u001b[0m\u001b[0;34m\u001b[0m\u001b[0m\n\u001b[1;32m     15\u001b[0m         \u001b[0;32melse\u001b[0m\u001b[0;34m:\u001b[0m\u001b[0;34m\u001b[0m\u001b[0;34m\u001b[0m\u001b[0m\n\u001b[0;32m---> 16\u001b[0;31m             \u001b[0mdictY\u001b[0m\u001b[0;34m.\u001b[0m\u001b[0mpop\u001b[0m\u001b[0;34m(\u001b[0m\u001b[0mkey\u001b[0m\u001b[0;34m)\u001b[0m\u001b[0;34m\u001b[0m\u001b[0;34m\u001b[0m\u001b[0m\n\u001b[0m\u001b[1;32m     17\u001b[0m     \u001b[0;32mreturn\u001b[0m \u001b[0mdictY\u001b[0m\u001b[0;34m\u001b[0m\u001b[0;34m\u001b[0m\u001b[0m\n",
      "\u001b[0;31mKeyError\u001b[0m: 0"
     ]
    }
   ],
   "source": [
    "multiplyTwoSparseVectors([1,0,0,2,0,0,4], [0,0,3,5,0,7,8])"
   ]
  },
  {
   "cell_type": "markdown",
   "id": "8532b0f1",
   "metadata": {},
   "source": [
    "## Exercise 6.6: Reverse look-up\n",
    "\n",
    "Dictionaries are made to look up values by keys. Suppose however, we want to find the key that is associated with some value. Write a function that takes a dictionary and a value, and returns the key associated with this value.\n",
    "\n",
    "What challenges do you face? How would you deal with those challenges?\n"
   ]
  },
  {
   "cell_type": "code",
   "execution_count": 112,
   "id": "99f358a2",
   "metadata": {},
   "outputs": [],
   "source": [
    "def reverseLookUpDictionary(d, value):\n",
    "    reverseD = dict(zip(d.values(), d.keys()))\n",
    "    print(reverseD)\n",
    "    return reverseD[value]"
   ]
  },
  {
   "cell_type": "code",
   "execution_count": 113,
   "id": "f613ba45",
   "metadata": {},
   "outputs": [
    {
     "ename": "TypeError",
     "evalue": "unhashable type: 'list'",
     "output_type": "error",
     "traceback": [
      "\u001b[0;31m---------------------------------------------------------------------------\u001b[0m",
      "\u001b[0;31mTypeError\u001b[0m                                 Traceback (most recent call last)",
      "\u001b[0;32m<ipython-input-113-dee7c3c3631b>\u001b[0m in \u001b[0;36m<module>\u001b[0;34m\u001b[0m\n\u001b[0;32m----> 1\u001b[0;31m \u001b[0mreverseLookUpDictionary\u001b[0m\u001b[0;34m(\u001b[0m\u001b[0;34m{\u001b[0m\u001b[0;36m1\u001b[0m\u001b[0;34m:\u001b[0m\u001b[0;36m3\u001b[0m\u001b[0;34m,\u001b[0m \u001b[0;36m2\u001b[0m\u001b[0;34m:\u001b[0m\u001b[0;36m3\u001b[0m\u001b[0;34m,\u001b[0m \u001b[0;36m5\u001b[0m\u001b[0;34m:\u001b[0m\u001b[0;36m3\u001b[0m\u001b[0;34m,\u001b[0m\u001b[0;34m'r'\u001b[0m\u001b[0;34m:\u001b[0m\u001b[0;34m[\u001b[0m\u001b[0;36m9\u001b[0m\u001b[0;34m,\u001b[0m\u001b[0;36m100\u001b[0m\u001b[0;34m]\u001b[0m\u001b[0;34m}\u001b[0m\u001b[0;34m,\u001b[0m \u001b[0;36m3\u001b[0m\u001b[0;34m)\u001b[0m\u001b[0;34m\u001b[0m\u001b[0;34m\u001b[0m\u001b[0m\n\u001b[0m",
      "\u001b[0;32m<ipython-input-112-88ac52cdaef2>\u001b[0m in \u001b[0;36mreverseLookUpDictionary\u001b[0;34m(d, value)\u001b[0m\n\u001b[1;32m      1\u001b[0m \u001b[0;32mdef\u001b[0m \u001b[0mreverseLookUpDictionary\u001b[0m\u001b[0;34m(\u001b[0m\u001b[0md\u001b[0m\u001b[0;34m,\u001b[0m \u001b[0mvalue\u001b[0m\u001b[0;34m)\u001b[0m\u001b[0;34m:\u001b[0m\u001b[0;34m\u001b[0m\u001b[0;34m\u001b[0m\u001b[0m\n\u001b[0;32m----> 2\u001b[0;31m     \u001b[0mreverseD\u001b[0m \u001b[0;34m=\u001b[0m \u001b[0mdict\u001b[0m\u001b[0;34m(\u001b[0m\u001b[0mzip\u001b[0m\u001b[0;34m(\u001b[0m\u001b[0md\u001b[0m\u001b[0;34m.\u001b[0m\u001b[0mvalues\u001b[0m\u001b[0;34m(\u001b[0m\u001b[0;34m)\u001b[0m\u001b[0;34m,\u001b[0m \u001b[0md\u001b[0m\u001b[0;34m.\u001b[0m\u001b[0mkeys\u001b[0m\u001b[0;34m(\u001b[0m\u001b[0;34m)\u001b[0m\u001b[0;34m)\u001b[0m\u001b[0;34m)\u001b[0m\u001b[0;34m\u001b[0m\u001b[0;34m\u001b[0m\u001b[0m\n\u001b[0m\u001b[1;32m      3\u001b[0m     \u001b[0mprint\u001b[0m\u001b[0;34m(\u001b[0m\u001b[0mreverseD\u001b[0m\u001b[0;34m)\u001b[0m\u001b[0;34m\u001b[0m\u001b[0;34m\u001b[0m\u001b[0m\n\u001b[1;32m      4\u001b[0m     \u001b[0;32mreturn\u001b[0m \u001b[0mreverseD\u001b[0m\u001b[0;34m[\u001b[0m\u001b[0mvalue\u001b[0m\u001b[0;34m]\u001b[0m\u001b[0;34m\u001b[0m\u001b[0;34m\u001b[0m\u001b[0m\n",
      "\u001b[0;31mTypeError\u001b[0m: unhashable type: 'list'"
     ]
    }
   ],
   "source": [
    "reverseLookUpDictionary({1:3, 2:3, 5:3,'r':[9,100]}, 3)"
   ]
  },
  {
   "cell_type": "code",
   "execution_count": 114,
   "id": "b6393654",
   "metadata": {},
   "outputs": [
    {
     "name": "stdout",
     "output_type": "stream",
     "text": [
      "{3: 5, 56: 'r'}\n"
     ]
    },
    {
     "data": {
      "text/plain": [
       "5"
      ]
     },
     "execution_count": 114,
     "metadata": {},
     "output_type": "execute_result"
    }
   ],
   "source": [
    "reverseLookUpDictionary({1:3, 2:3, 5:3,'r':56}, 3)"
   ]
  },
  {
   "cell_type": "code",
   "execution_count": 110,
   "id": "e3aea00a",
   "metadata": {},
   "outputs": [],
   "source": [
    "def reverseLookUpDictionary2(d, value):\n",
    "    reverseD = {v: k for k, v in d.items()}\n",
    "    print(reverseD)\n",
    "    return reverseD[value]"
   ]
  },
  {
   "cell_type": "code",
   "execution_count": 111,
   "id": "5022f78c",
   "metadata": {},
   "outputs": [
    {
     "name": "stdout",
     "output_type": "stream",
     "text": [
      "{3: 5, 56: 'r'}\n"
     ]
    },
    {
     "data": {
      "text/plain": [
       "5"
      ]
     },
     "execution_count": 111,
     "metadata": {},
     "output_type": "execute_result"
    }
   ],
   "source": [
    "reverseLookUpDictionary2({1:3, 2:3, 5:3,'r':56}, 3)"
   ]
  },
  {
   "cell_type": "markdown",
   "id": "7a4457d0",
   "metadata": {},
   "source": [
    "This problem is challenging because there are similar values corresponding to different keys. So, when reversing the dictionary, only one key-value pair corresponding to the similar value appears in the output. "
   ]
  },
  {
   "cell_type": "code",
   "execution_count": null,
   "id": "7f4fd7a8",
   "metadata": {},
   "outputs": [],
   "source": []
  }
 ],
 "metadata": {
  "kernelspec": {
   "display_name": "Python 3",
   "language": "python",
   "name": "python3"
  },
  "language_info": {
   "codemirror_mode": {
    "name": "ipython",
    "version": 3
   },
   "file_extension": ".py",
   "mimetype": "text/x-python",
   "name": "python",
   "nbconvert_exporter": "python",
   "pygments_lexer": "ipython3",
   "version": "3.8.5"
  },
  "toc": {
   "base_numbering": 1,
   "nav_menu": {},
   "number_sections": true,
   "sideBar": true,
   "skip_h1_title": false,
   "title_cell": "Table of Contents",
   "title_sidebar": "Contents",
   "toc_cell": true,
   "toc_position": {},
   "toc_section_display": true,
   "toc_window_display": true
  }
 },
 "nbformat": 4,
 "nbformat_minor": 5
}
